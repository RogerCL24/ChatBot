{
 "cells": [
  {
   "cell_type": "code",
   "execution_count": 2,
   "metadata": {},
   "outputs": [
    {
     "name": "stdout",
     "output_type": "stream",
     "text": [
      "\n",
      "\n",
      "ChatGPT is a natural language processing (NLP) platform that allows businesses and developers to create custom AI chatbots conversations. It uses generative deep learning models, allowing it to generate natural-sounding conversations in response to inputs from users. ChatGPT's AI models can be used for a variety of applications, such as customer service, marketing, education, and more.\n"
     ]
    }
   ],
   "source": [
    "import openai\n",
    "\n",
    "openai.api_key = \"<API-KEY>\"\n",
    "\n",
    "chatbot = openai.Completion.create(engine=\"text-davinci-003\",\n",
    "                                   prompt=\"What is ChatGPT?\",\n",
    "                                   max_tokens=2048)\n",
    "print(chatbot.choices[0].text)"
   ]
  }
 ],
 "metadata": {
  "kernelspec": {
   "display_name": "chatbot",
   "language": "python",
   "name": "chatbot"
  },
  "language_info": {
   "codemirror_mode": {
    "name": "ipython",
    "version": 3
   },
   "file_extension": ".py",
   "mimetype": "text/x-python",
   "name": "python",
   "nbconvert_exporter": "python",
   "pygments_lexer": "ipython3",
   "version": "3.9.2"
  },
  "orig_nbformat": 4
 },
 "nbformat": 4,
 "nbformat_minor": 2
}
